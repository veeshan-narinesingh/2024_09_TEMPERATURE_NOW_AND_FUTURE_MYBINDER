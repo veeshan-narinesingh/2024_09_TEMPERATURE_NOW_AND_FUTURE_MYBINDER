{
 "cells": [
  {
   "cell_type": "code",
   "execution_count": null,
   "id": "298dfb52-0de9-429e-802b-515603592b7e",
   "metadata": {},
   "outputs": [],
   "source": [
    "!pip install xarray\n",
    "!pip install cartopy\n",
    "!pip install gdown\n",
    "!pip install netCDF4\n",
    "!pip install pandas\n",
    "!pip install matplotlib\n",
    "!pip install numpy\n",
    "!pip install datetime\n",
    "!pip install dask"
   ]
  },
  {
   "cell_type": "code",
   "execution_count": null,
   "id": "288fb4e4-2c19-4b6c-9d7d-a488dc3544a0",
   "metadata": {},
   "outputs": [],
   "source": [
    "# First Import the Necessary Python Libraries\n",
    "import xarray as xr\n",
    "import matplotlib.pyplot as plt\n",
    "import cartopy.crs as ccrs\n",
    "import numpy as np\n",
    "import pandas as pd\n",
    "import gdown\n",
    "# Now load in the first dataset\n",
    "eraurl = 'https://drive.google.com/uc?id=1WXoMBNW8hQ3uhy-M1VxiLpSLrokKgH_V'\n",
    "# Download the file\n",
    "gdown.download(eraurl,'ERA5.max_2m_temp.daily.2015-2019.nc', quiet=False)\n",
    "erads = xr.open_dataset('ERA5.max_2m_temp.daily.2015-2019.nc')\n"
   ]
  },
  {
   "cell_type": "code",
   "execution_count": null,
   "id": "ce46530c-cf54-4d6c-85be-a8210dd8049d",
   "metadata": {},
   "outputs": [],
   "source": [
    "# Now look at what's inside the dataset\n",
    "erads"
   ]
  },
  {
   "cell_type": "code",
   "execution_count": null,
   "id": "b7a017b1-69d0-4c51-b0c6-651decff2043",
   "metadata": {},
   "outputs": [],
   "source": [
    "# The data is 3-dimensional, time x latitude x longitude. The time dimension is 1826 long (365 days x 5 years + 1 leap year in there, 2016). Lat is 90, lon is 144.\n",
    "# The variable in this dataset is the daily max 2 meter temperature, 'tasmax'  \n",
    "# let's load in the temperature, lat, and lon\n",
    "\n",
    "# load in the daily max 2 m temperature\n",
    "eratemp=erads.tasmax \n",
    "\n",
    "# convert to Fahrenheit\n",
    "eratemp=1.8*(eratemp-273.15)+32 \n",
    "# load in the longitude, latitude, and time \n",
    "lon=erads.lon \n",
    "lat=erads.lat \n",
    "eratime=erads.time  "
   ]
  },
  {
   "cell_type": "code",
   "execution_count": null,
   "id": "5a8f809a-3da6-4c48-baf5-7655e8a57c6c",
   "metadata": {},
   "outputs": [],
   "source": [
    "# Now let's plot the data for January 1st, 2015. Just to visualize what it looks like.\n",
    "\n",
    "# Re-select data for January 1st, 2015\n",
    "eratemp_want = eratemp.sel(time='2015-01-01')\n",
    "\n",
    "# Specify color bar properties\n",
    "color_min = -30  # lower limit of -30°F\n",
    "color_max = 110  # upper limit of 110°F\n",
    "numberofsteps = 15\n",
    "colorlevels = np.linspace(color_min, color_max, numberofsteps)\n",
    "\n",
    "# Initialize the figure\n",
    "fig = plt.figure(figsize=(36, 6))\n",
    "axs = fig.add_subplot(1, 1, 1, projection=ccrs.PlateCarree(central_longitude=180))\n",
    "\n",
    "# Plot the temperature data\n",
    "plotnow = axs.contourf(lon, lat, eratemp_want, levels=colorlevels, extend='both', transform=ccrs.PlateCarree())\n",
    "\n",
    "# Add coastlines and gridlines\n",
    "axs.coastlines(resolution='110m')\n",
    "axs.gridlines(draw_labels=True, dms=True, x_inline=False, y_inline=False)\n",
    "\n",
    "# Add a colorbar with a label\n",
    "cbar = fig.colorbar(plotnow)\n",
    "cbar.set_label('°F', fontsize=16)\n",
    "\n",
    "# Add a title\n",
    "plt.title('Temperature ' + pd.Timestamp(eratemp_want.time.values).strftime('%Y-%m-%d'))\n",
    "\n",
    "# Show the plot\n",
    "plt.show()\n"
   ]
  },
  {
   "cell_type": "code",
   "execution_count": null,
   "id": "9d8125c9-ead5-43b4-aa9a-7db56dab6f0c",
   "metadata": {},
   "outputs": [],
   "source": [
    "#Answer the following questions to check for understanding, you can type it right into the notebook\n",
    "\n",
    "#1. What colors do you see near the equator? What about near the poles? Does this make sense according to the colorbar?\n",
    "\n",
    "#2. Where is it the coldest?\n",
    "\n",
    "#3. Which is warmer, the Northern Hemisphere or the Southern Hemisphere? Why?\n",
    "\n"
   ]
  },
  {
   "cell_type": "code",
   "execution_count": null,
   "id": "3035b0d6-eb53-4aa4-a3a6-bd145d9b46f4",
   "metadata": {},
   "outputs": [],
   "source": [
    "# What's next is some tasks to practice your coding skills. It's probably best to copy and paste some of the code above and modify where needed. \n",
    "\n",
    "#1. Plot the temperature for January 3rd, 2015"
   ]
  },
  {
   "cell_type": "code",
   "execution_count": null,
   "id": "297aade1-6e91-421f-8542-c79fe730fd89",
   "metadata": {},
   "outputs": [],
   "source": [
    "#2. Plot the temperature for May 3rd, 2015"
   ]
  },
  {
   "cell_type": "code",
   "execution_count": null,
   "id": "9b85f687-a722-4efe-a489-5a8f20f91659",
   "metadata": {},
   "outputs": [],
   "source": [
    "#3. Plot the temperature for June 2nd, 2016"
   ]
  },
  {
   "cell_type": "code",
   "execution_count": null,
   "id": "21de8048-e37e-404c-89d6-7c586589d67f",
   "metadata": {},
   "outputs": [],
   "source": [
    "#4. Plot the temperature for July 25, 2018"
   ]
  },
  {
   "cell_type": "code",
   "execution_count": null,
   "id": "8a01e651-a6d4-4b76-ac58-9dac9ef3de6a",
   "metadata": {},
   "outputs": [],
   "source": [
    "#4. Plot the temperature for your birthday or someone you love or admire's birthday in 2017"
   ]
  },
  {
   "cell_type": "code",
   "execution_count": null,
   "id": "eb2eadf7-c714-43f8-bc75-4a2240b6f817",
   "metadata": {},
   "outputs": [],
   "source": [
    "# Critical thinking: \n",
    "# 1. Look at your plots for January and July. How do the Northern and Southern Hemisphere's compare in both of these months? What about in May? Does this all make sense?"
   ]
  },
  {
   "cell_type": "code",
   "execution_count": null,
   "id": "0c24ea0a-df42-4a02-95f3-c20b03be97be",
   "metadata": {},
   "outputs": [],
   "source": [
    "# Now let's plot the average temperature of the whole dataset. Another way of saying this is the climatology. In this case\n",
    "# this climatology is calculated over the whole year, not just a season, so it is the annual-mean climatology\n",
    "\n",
    "eraclim = eratemp.mean(dim='time')\n",
    "\n",
    "# Initialize the figure\n",
    "fig = plt.figure(figsize=(36, 6))\n",
    "axs = fig.add_subplot(1, 1, 1, projection=ccrs.PlateCarree(central_longitude=180))\n",
    "\n",
    "plotnow = axs.contourf(lon, lat, eraclim, levels=colorlevels, extend='both', transform=ccrs.PlateCarree())\n",
    "\n",
    "# Add coastlines to the plot\n",
    "axs.coastlines(resolution='110m')\n",
    "axs.gridlines(draw_labels=True, dms=True, x_inline=False, y_inline=False)\n",
    "\n",
    "# Add a colorbar with a label containing the degree symbol and adjust font size\n",
    "cbar = fig.colorbar(plotnow)\n",
    "cbar.set_label('°F', fontsize=16)\n",
    "\n",
    "# Add a title to the plot\n",
    "plt.title('Annual Mean Temperature 2015-2019')\n",
    "\n",
    "# Show the plot\n",
    "plt.show()\n"
   ]
  },
  {
   "cell_type": "code",
   "execution_count": null,
   "id": "07cf9dd4-6d1d-4496-b820-d5f1fca3cb0b",
   "metadata": {},
   "outputs": [],
   "source": [
    "# Observations:\n",
    "# 1. How does this annual mean temperature compare to the temperature on January 2nd 2015 and the other dates?"
   ]
  },
  {
   "cell_type": "code",
   "execution_count": null,
   "id": "30eba5ee-418b-4edc-b60e-d055a3f946ab",
   "metadata": {},
   "outputs": [],
   "source": [
    "# Let's get the climatological temperature values for specific locations now. As an example, let's start with Paris\n",
    "# located at Latitude: 48.8566° N, Longitude: 2.3522° E\n",
    "loc1tempera = eraclim.sel(lat = 48.8566, lon = 2.3522, method='nearest').values\n",
    "print('Paris Annual Temperature ' + str(np.round(loc1tempera,1)) + ' F')\n",
    "\n",
    "# now let's do NY, which is at Latitude: 40.7128° N, Longitude: 74.0060° W\n",
    "# since NY has a W longitude, we need to do 360 - 74.0060, when specifying longitude \n",
    "loc2tempera = eraclim.sel(lat = 40.7128, lon = 360 - 74.0060, method='nearest').values\n",
    "print('NYC Annual Temperature ' + str(np.round(loc2tempera,1))+ ' F')\n",
    "\n",
    "# Let's also do Trinidad Latitude: 10.6918° N, Longitude: 61.2225° W\n",
    "loc3tempera = eraclim.sel(lat = 10.6918, lon = 360 - 61.2225, method='nearest').values\n",
    "print('Trinidad Annual Temperature ' + str(np.round(loc3tempera,1))+ ' F')\n"
   ]
  },
  {
   "cell_type": "code",
   "execution_count": null,
   "id": "ebae3d65-7c14-499c-bf4a-01428d35d66f",
   "metadata": {},
   "outputs": [],
   "source": [
    "# As you can see, Paris and NYC have very similar annual-mean temperatures.\n",
    "# Trinidad, on the hand, is much warmer. Why?\n",
    "\n",
    "# Pick 3 more locations of your own and find the annual mean temperatures there. These places could be anywhere\n",
    "# some ideas could be where you or your family is from or maybe where your favorite sports team is from, but it's entirely up to you!\n",
    "\n",
    "# Hint: copy and paste the code above into a new cell, then modify to match the lat and lon of your location, Don't forget to make new variable names"
   ]
  },
  {
   "cell_type": "code",
   "execution_count": null,
   "id": "b8afde9c-bc11-427c-af62-b66d159b815d",
   "metadata": {},
   "outputs": [],
   "source": []
  },
  {
   "cell_type": "code",
   "execution_count": null,
   "id": "7b8dc668-5570-435d-b69e-2d8dce108511",
   "metadata": {},
   "outputs": [],
   "source": [
    "# Now let's plot the average temperature for just Northern Hemisphere (boreal) summer, defined as June, July, August.\n",
    "\n",
    "\n",
    "eraclimjja=eratemp.sel(time=eratemp['time'].dt.month.isin([6,7,8])).mean(dim='time')\n",
    "\n",
    "# Initialize the figure with the specified projection\n",
    "fig = plt.figure(figsize=(36, 6))\n",
    "# We also have to specify a map projection\n",
    "axs = fig.add_subplot(1, 1, 1, projection=ccrs.PlateCarree(central_longitude=180))\n",
    "\n",
    "plotnow = axs.contourf(lon, lat, eraclimjja, levels=colorlevels, extend='both', transform=ccrs.PlateCarree())\n",
    "\n",
    "# Add coastlines to the plot\n",
    "axs.coastlines(resolution='110m')\n",
    "axs.gridlines(draw_labels=True, dms=True, x_inline=False, y_inline=False)\n",
    "\n",
    "# Add a colorbar with a label containing the degree symbol and adjust font size\n",
    "cbar = fig.colorbar(plotnow)\n",
    "cbar.set_label('°F', fontsize=16)\n",
    "\n",
    "# Add a title to the plot\n",
    "plt.title('JJA Mean Temperature 2015-2019')\n",
    "\n",
    "# Show the plot\n",
    "plt.show()\n"
   ]
  },
  {
   "cell_type": "code",
   "execution_count": null,
   "id": "e7e0e69e-2400-4bfb-9742-e14e1c2a2c22",
   "metadata": {},
   "outputs": [],
   "source": [
    "# How does the JJA mean compare to the annual mean from the previous plot?"
   ]
  },
  {
   "cell_type": "code",
   "execution_count": null,
   "id": "1e0e7cdb-d296-497e-8015-4daa836c1902",
   "metadata": {},
   "outputs": [],
   "source": [
    "# Do the same but for Boreal Winter: December, January, February. How does DJF compare to the annual mean and JJA?"
   ]
  },
  {
   "cell_type": "code",
   "execution_count": null,
   "id": "879b8f85-b167-493e-b8b4-bb5b5dd11c1a",
   "metadata": {},
   "outputs": [],
   "source": [
    "# Great, so now what we have a sense of what 2 m temperature looks like in the current climate. Now let's look at some\n",
    "# future possible climates. For this we need to use climate simulation data. In this case we are using a SSP5-8.5 simulation of \n",
    "# NOAA GFDL's CM4 model. Let's start by looking at the years 2095-2099\n",
    "ssp5url = 'https://drive.google.com/uc?id=1WX4o0ISzBtSOPhoIQXOgcPtM7gEUi95I'\n",
    "gdown.download(ssp5url,'cm4_ssp5.max_2m_temp.daily.2095-2099.nc', quiet=False)\n",
    "\n",
    "# load in the daily max 2 m temperature and convert to Fahrenheit\n",
    "ssp5ds = xr.open_dataset('cm4_ssp5.max_2m_temp.daily.2095-2099.nc')\n",
    "ssp5temp=ssp5ds.tasmax \n",
    "ssp5temp=1.8*(ssp5temp-273.15)+32 "
   ]
  },
  {
   "cell_type": "code",
   "execution_count": null,
   "id": "8921e1b0-367c-4490-a741-e76f9fe3dbec",
   "metadata": {},
   "outputs": [],
   "source": [
    "# Now just as we did before, on your own, calculate the annual-mean climatology for the ssp5-8.5 data\n",
    "#  call it ssp5clim"
   ]
  },
  {
   "cell_type": "code",
   "execution_count": null,
   "id": "185f2e74-ebd6-4e55-b274-c73087c42ac8",
   "metadata": {},
   "outputs": [],
   "source": []
  },
  {
   "cell_type": "code",
   "execution_count": null,
   "id": "1555af37-aaab-457a-966f-dbdf759c6683",
   "metadata": {},
   "outputs": [],
   "source": [
    "# Now let's plot the average temperature of the whole dataset. Another way of saying this is the climatology. In this case\n",
    "# this climatology is calculated over the whole year, not just a season, so it is the annual-mean climatology\n",
    "\n",
    "ssp5clim=ssp5temp.mean(dim='time')\n",
    "\n",
    "# Initialize the figure with the specified projection\n",
    "fig = plt.figure(figsize=(36, 6))\n",
    "axs = fig.add_subplot(1, 1, 1, projection=ccrs.PlateCarree(central_longitude=180))\n",
    "plotnow = axs.contourf(lon, lat, ssp5clim, levels=colorlevels, extend='both', transform=ccrs.PlateCarree())\n",
    "\n",
    "# Add coastlines to the plot\n",
    "axs.coastlines(resolution='110m')\n",
    "axs.gridlines(draw_labels=True, dms=True, x_inline=False, y_inline=False)\n",
    "\n",
    "# Add a colorbar with a label containing the degree symbol and adjust font size\n",
    "cbar = fig.colorbar(plotnow)\n",
    "cbar.set_label('°F', fontsize=16)\n",
    "\n",
    "# Add a title to the plot\n",
    "plt.title('SSP5-8.5 Annual Mean Temperature 2095-2099')\n",
    "\n",
    "# Show the plot\n",
    "plt.show()\n"
   ]
  },
  {
   "cell_type": "code",
   "execution_count": null,
   "id": "9b1b831f-8e01-4554-8ab2-3635861efd32",
   "metadata": {},
   "outputs": [],
   "source": [
    "# Now find the annual mean temperature at our locations from before\n",
    "\n",
    "loc1tempssp5 = ssp5clim.sel(lat = 48.8566, lon = 2.3522, method='nearest').values\n",
    "print('Paris Annual Temperature ' + str(np.round(loc1tempssp5,1)) + ' F')\n",
    "\n",
    "\n",
    "loc2tempssp5 = ssp5clim.sel(lat = 40.7128, lon = 360 - 74.0060, method='nearest').values\n",
    "print('NYC Annual Temperature ' + str(np.round(loc2tempssp5,1))+ ' F')\n",
    "\n",
    "\n",
    "loc2tempssp5 = ssp5clim.sel(lat = 10.6918, lon = 360 - 61.2225, method='nearest').values\n",
    "print('Trinidad Annual Temperature ' + str(np.round(loc2tempssp5,1))+ ' F')"
   ]
  },
  {
   "cell_type": "code",
   "execution_count": null,
   "id": "66c5006d-dbd1-4bf4-a978-0097bcfde202",
   "metadata": {},
   "outputs": [],
   "source": [
    "# How does these temperatures compare to before?\n",
    "\n",
    "# Find how much it warms up inthe 3 locations of your choosing"
   ]
  },
  {
   "cell_type": "code",
   "execution_count": null,
   "id": "36dcdff0-e743-43ba-80b8-0ef19c8ffe0d",
   "metadata": {},
   "outputs": [],
   "source": []
  },
  {
   "cell_type": "code",
   "execution_count": null,
   "id": "743c52d2-3b6d-4a08-9182-d6723c941d29",
   "metadata": {},
   "outputs": [],
   "source": [
    "# We can also plot the difference of the two climatologies. This will essentially tell us how much the annual mean temperature\n",
    "# increases by in the SSP5-8.5 scenario everywhere\n",
    "\n",
    "# First calculate the difference in the climatologies\n",
    "\n",
    "diffssp5era = ssp5clim - eraclim"
   ]
  },
  {
   "cell_type": "code",
   "execution_count": null,
   "id": "e53c2286-a08c-4774-817d-cf03f3eb56ed",
   "metadata": {},
   "outputs": [],
   "source": [
    "# Plot the difference, but we will have to make some modifications to our plotting code first:\n",
    "\n",
    "# specify our colorbar properties \n",
    "color_mindiff = 0 # lower limit of -20 F\n",
    "color_maxdiff = 20 # upper limit of 20 degrees F \n",
    "numberofstepsdiff = 11\n",
    "colorlevelsdiff = np.linspace(color_mindiff, color_maxdiff, numberofstepsdiff)\n",
    "\n",
    "# Initialize the figure with the specified projection\n",
    "fig = plt.figure(figsize=(36, 6))\n",
    "axs = fig.add_subplot(1, 1, 1, projection=ccrs.PlateCarree(central_longitude=180))\n",
    "\n",
    "plotnow = axs.contourf(lon, lat, diffssp5era,levels=colorlevelsdiff,extend='both', cmap = 'YlOrRd', transform=ccrs.PlateCarree())\n",
    "#notice the addition of the specifier, cmap = 'YlOrRd', this changes the colormap to be a sequence of yellow, orange, and red\n",
    "\n",
    "# Add coastlines to the plot\n",
    "axs.coastlines(resolution='110m')\n",
    "axs.gridlines(draw_labels=True, dms=True, x_inline=False, y_inline=False)\n",
    "\n",
    "# Add a colorbar with a label containing the degree symbol and adjust font size\n",
    "cbar = fig.colorbar(plotnow)\n",
    "cbar.set_label('°F', fontsize=16)\n",
    "\n",
    "# Add a title to the plot\n",
    "plt.title('Annual Mean Temperature Difference SSP5 2095 to 2099 - ERA5 2015 to 2019')\n",
    "\n",
    "# Show the plot\n",
    "plt.show()"
   ]
  },
  {
   "cell_type": "code",
   "execution_count": null,
   "id": "e9a533cc-27da-47e4-a50c-837c614166c5",
   "metadata": {},
   "outputs": [],
   "source": [
    "# 1. Where does it warm up the most?\n",
    "# 2. Where does it warm up the least?\n"
   ]
  },
  {
   "cell_type": "code",
   "execution_count": null,
   "id": "7472a43a-b99b-4aed-8e79-e5623fb2d772",
   "metadata": {},
   "outputs": [],
   "source": [
    "# Let's now look at a different scenario, SSP2-4.5. This is a middle of the road Shared Socioeconomic Pathway \n",
    "ssp2url = 'https://drive.google.com/uc?id=1WWV0-XenBBwUFvs_DPGE5-huTgWp4Q7L'\n",
    "gdown.download(ssp2url,'cm4_ssp2.max_2m_temp.daily.2095-2099.nc', quiet=False)\n",
    "\n",
    "\n",
    "\n",
    "# load in the daily max 2 m temperature and convert to Fahrenheit\n",
    "ssp2ds = xr.open_dataset('cm4_ssp2.max_2m_temp.daily.2095-2099.nc')\n",
    "ssp2temp=ssp2ds.tasmax \n",
    "ssp2temp=1.8*(ssp2temp-273.15)+32 \n",
    "\n",
    "# Calculate the climatology and take the difference from the current climate\n",
    "ssp2clim=ssp2temp.mean(dim='time')\n",
    "diffssp2era = ssp2clim - eraclim"
   ]
  },
  {
   "cell_type": "code",
   "execution_count": null,
   "id": "cb87a101-c61b-44b2-a386-eb8f49913001",
   "metadata": {},
   "outputs": [],
   "source": [
    "# Then plot the difference\n",
    "\n",
    "\n",
    "# Initialize the figure with the specified projection\n",
    "fig = plt.figure(figsize=(36, 6))\n",
    "axs = fig.add_subplot(1, 1, 1, projection=ccrs.PlateCarree(central_longitude=180))\n",
    "\n",
    "plotnow = axs.contourf(lon, lat, diffssp2era,levels=colorlevelsdiff,extend='both', cmap = 'YlOrRd', transform=ccrs.PlateCarree())\n",
    "#notice the addition of the specifier, cmap = 'YlOrRd', this changes the colormap to be a sequence of yellow, orange, and red\n",
    "\n",
    "# Add coastlines to the plot\n",
    "axs.coastlines(resolution='110m')\n",
    "axs.gridlines(draw_labels=True, dms=True, x_inline=False, y_inline=False)\n",
    "\n",
    "# Add a colorbar with a label containing the degree symbol and adjust font size\n",
    "cbar = fig.colorbar(plotnow)\n",
    "cbar.set_label('°F', fontsize=16)\n",
    "\n",
    "# Add a title to the plot\n",
    "plt.title('Annual Mean Temperature Difference SSP2 2095-2099 - ERA5 2015-2019')\n",
    "\n",
    "# Show the plot\n",
    "plt.show()"
   ]
  },
  {
   "cell_type": "code",
   "execution_count": null,
   "id": "993b2ec9-48df-4538-ac72-e3193ec1441b",
   "metadata": {},
   "outputs": [],
   "source": [
    "# How does the change in temperature relative to current climates in SSP5 compare to SSP2?"
   ]
  },
  {
   "cell_type": "code",
   "execution_count": null,
   "id": "f8a030cf-5548-4cb3-aa3c-0fa739f9b668",
   "metadata": {},
   "outputs": [],
   "source": [
    "# This ends the guided part of the tutorial. Now that you are equipped with some basic coding skills, \n",
    "# it is time for you to ask your own questions and do your own exploration.\n",
    "\n",
    "# Here's Some Potential ideas to explore the data on your own:\n",
    "# 1. Look at how temperature changes in the SSP2 and SSP5 simulations change for specific seasons\n",
    "# 2. Look at how temperature changes in the SSP2 and SSP5 simulations on your birthday only\n",
    "# 3. See how much temperature changes in specific cities or other places\n",
    "# 4. Here is code to data from the years 2055-2059 for the SSP2 and SSP5 scenarios. Compare this to 2015-2019 and/or 2095-2099\n",
    "# gdown.download('https://drive.google.com/uc?id=1WTcc6QvtikNrHnpmTPnp-nwO3NF4OHLk','cm4_ssp2.max_2m_temp.daily.2055-2059.nc', quiet=False)\n",
    "# gdown.download('https://drive.google.com/uc?id=1WUSCYml8fmOX-GEzpkr7CbmfIpNpt2Hs','cm4_ssp5.max_2m_temp.daily.2055-2059.nc', quiet=False)"
   ]
  }
 ],
 "metadata": {
  "kernelspec": {
   "display_name": "Python 3",
   "language": "python",
   "name": "python3"
  },
  "language_info": {
   "codemirror_mode": {
    "name": "ipython",
    "version": 3
   },
   "file_extension": ".py",
   "mimetype": "text/x-python",
   "name": "python",
   "nbconvert_exporter": "python",
   "pygments_lexer": "ipython3",
   "version": "3.11.9"
  }
 },
 "nbformat": 4,
 "nbformat_minor": 5
}
